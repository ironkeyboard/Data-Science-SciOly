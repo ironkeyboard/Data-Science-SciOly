{
 "cells": [
  {
   "cell_type": "code",
   "execution_count": null,
   "metadata": {},
   "outputs": [],
   "source": [
    "li1 = [2,4,3,-2,-1,5,10]\n",
    "li2 = [5,4,-3,7,8,-5,10,9]\n",
    "import numpy as np #this is only if you want to use mean and median functions from numpy (not needed)"
   ]
  },
  {
   "cell_type": "code",
   "execution_count": null,
   "metadata": {},
   "outputs": [],
   "source": [
    "def findMean(li):\n",
    "    # awnser\n",
    "    #li = np.array(li)\n",
    "    #mean = li.mean()\n",
    "    mean = sum(li) / len(li)\n",
    "    return mean"
   ]
  },
  {
   "cell_type": "code",
   "execution_count": null,
   "metadata": {},
   "outputs": [],
   "source": [
    "if findMean(li1) == 3:\n",
    "    print(\"1 is correct!\")\n",
    "else:\n",
    "    print(\"1 is wrong\")\n",
    "if findMean(li2) == 4.375:\n",
    "    print(\"2 is correct!\")\n",
    "else:\n",
    "    print(\"2 is wrong\")"
   ]
  },
  {
   "cell_type": "code",
   "execution_count": null,
   "metadata": {},
   "outputs": [],
   "source": [
    "def findMin(li):\n",
    "    li.sort()\n",
    "    # awnser\n",
    "    minOfLi = li[0]\n",
    "    return minOfLi"
   ]
  },
  {
   "cell_type": "code",
   "execution_count": null,
   "metadata": {},
   "outputs": [],
   "source": [
    "if findMin(li1) == -2:\n",
    "    print(\"1 is correct!\")\n",
    "else:\n",
    "    print(\"1 is wrong\")\n",
    "if findMin(li2) == -5:\n",
    "    print(\"2 is correct!\")\n",
    "else:\n",
    "    print(\"2 is wrong\")"
   ]
  },
  {
   "cell_type": "code",
   "execution_count": null,
   "metadata": {},
   "outputs": [],
   "source": [
    "def findMax(li):\n",
    "    li.sort()\n",
    "    # awnser\n",
    "    maxOfLi = li[-1]\n",
    "    return maxOfLi"
   ]
  },
  {
   "cell_type": "code",
   "execution_count": null,
   "metadata": {},
   "outputs": [],
   "source": [
    "if findMax(li1) == 10:\n",
    "    print(\"1 is correct!\")\n",
    "else:\n",
    "    print(\"1 is wrong\")\n",
    "if findMax(li2) == 10:\n",
    "    print(\"2 is correct!\")\n",
    "else:\n",
    "    print(\"2 is wrong\")"
   ]
  },
  {
   "cell_type": "code",
   "execution_count": null,
   "metadata": {},
   "outputs": [],
   "source": [
    "def findMedian(li):\n",
    "    li.sort()\n",
    "    # awnser\n",
    "    listlength = len(li) \n",
    "    num = listlength//2\n",
    "    if listlength%2==0:\n",
    "        median = (li[num]+li[num-1])/2\n",
    "    else:\n",
    "        median = li[num]\n",
    "    return median"
   ]
  },
  {
   "cell_type": "code",
   "execution_count": null,
   "metadata": {},
   "outputs": [],
   "source": [
    "if findMedian(li1) == 3:\n",
    "    print(\"1 is correct!\")\n",
    "else:\n",
    "    print(\"1 is wrong\")\n",
    "if findMedian(li2) == 6:\n",
    "    print(\"2 is correct!\")\n",
    "else:\n",
    "    print(\"2 is wrong\")"
   ]
  },
  {
   "cell_type": "code",
   "execution_count": null,
   "metadata": {},
   "outputs": [],
   "source": []
  }
 ],
 "metadata": {
  "kernelspec": {
   "display_name": "Python 3",
   "language": "python",
   "name": "python3"
  },
  "language_info": {
   "codemirror_mode": {
    "name": "ipython",
    "version": 3
   },
   "file_extension": ".py",
   "mimetype": "text/x-python",
   "name": "python",
   "nbconvert_exporter": "python",
   "pygments_lexer": "ipython3",
   "version": "3.7.4"
  }
 },
 "nbformat": 4,
 "nbformat_minor": 2
}
{
   "cell_type": "markdown",
   "execution_count": null,
   "metadata": {},
   "outputs": [],
   "source": [
    # all code under awnser untill the end of the function has been added by me as a POSSIBLE solution this does not mean that it must be exact, the odd lines of code are not meant to be altered (they are the for the proctor to easily check if your code was correct)
   ]
  },
  {
   "cell_type": "code",
   "execution_count": null,
   "metadata": {},
   "outputs": [],
   "source": []
  }
 ],
 "metadata": {
  "kernelspec": {
   "display_name": "Python 3",
   "language": "python",
   "name": "python3"
  },
  "language_info": {
   "codemirror_mode": {
    "name": "ipython",
    "version": 3
   },
   "file_extension": ".py",
   "mimetype": "text/x-python",
   "name": "python",
   "nbconvert_exporter": "python",
   "pygments_lexer": "ipython3",
   "version": "3.7.4"
  }
 },
 "nbformat": 4,
 "nbformat_minor": 2
}
